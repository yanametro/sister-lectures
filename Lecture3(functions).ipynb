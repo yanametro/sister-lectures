{
 "cells": [
  {
   "cell_type": "markdown",
   "metadata": {},
   "source": [
    "# Функции (подпрограммы)"
   ]
  },
  {
   "cell_type": "markdown",
   "metadata": {},
   "source": [
    "### Зачем нужны функции\n",
    "\n",
    "    1. Оптимизировать использование повторяющиеся участки кода\n",
    "    2. Удобный инструмент группировки программного кода\n",
    "    3. Повысить читаемость кода\n",
    "    4. Помощь в проектировании (инструкция pass)\n",
    "    5. Возможность реализовывать рекурсивные алгоритмы\n",
    "    6. Методы в ООП реализуются как функции"
   ]
  },
  {
   "cell_type": "code",
   "execution_count": null,
   "metadata": {
    "collapsed": true
   },
   "outputs": [],
   "source": [
    "def factorial(n):\n",
    "    \"\"\"Считает факториал числа\"\"\"\n",
    "    if n<0:\n",
    "        return 'n отрицательное'\n",
    "    f = 1\n",
    "    for i in range(2,n+1):\n",
    "        f = f * i\n",
    "    return f"
   ]
  },
  {
   "cell_type": "code",
   "execution_count": null,
   "metadata": {
    "collapsed": false
   },
   "outputs": [],
   "source": [
    "x = factorial(-10)\n",
    "print(x)"
   ]
  },
  {
   "cell_type": "code",
   "execution_count": null,
   "metadata": {
    "collapsed": false
   },
   "outputs": [],
   "source": [
    "help(factorial)"
   ]
  },
  {
   "cell_type": "code",
   "execution_count": null,
   "metadata": {
    "collapsed": false
   },
   "outputs": [],
   "source": [
    "factorial('hse')"
   ]
  },
  {
   "cell_type": "code",
   "execution_count": null,
   "metadata": {
    "collapsed": false
   },
   "outputs": [],
   "source": [
    "type(factorial)"
   ]
  },
  {
   "cell_type": "code",
   "execution_count": null,
   "metadata": {
    "collapsed": false
   },
   "outputs": [],
   "source": [
    "x = factorial\n",
    "x(5)"
   ]
  },
  {
   "cell_type": "code",
   "execution_count": null,
   "metadata": {
    "collapsed": false
   },
   "outputs": [],
   "source": [
    "a = [factorial, len]\n",
    "print(a[0](5), a[1]('HSE'))"
   ]
  },
  {
   "cell_type": "code",
   "execution_count": null,
   "metadata": {
    "collapsed": true
   },
   "outputs": [],
   "source": [
    "def First():\n",
    "    pass\n",
    "def Second():\n",
    "    pass\n",
    "def Third():\n",
    "    pass\n",
    "\n",
    "First()\n",
    "Second()\n",
    "Third()"
   ]
  },
  {
   "cell_type": "markdown",
   "metadata": {},
   "source": [
    "Аргументы передаются функции, как ссылки, и поэтому изменяемые объекты могут быть изменены."
   ]
  },
  {
   "cell_type": "code",
   "execution_count": null,
   "metadata": {
    "collapsed": false
   },
   "outputs": [],
   "source": [
    "def f(a):\n",
    "    a[0] = 1\n",
    "    print('Внутри\\t', a)\n",
    "b = [0,0,0]\n",
    "print (\"До\\t\", b)\n",
    "f(b)\n",
    "print (\"После\\t\", b)"
   ]
  },
  {
   "cell_type": "code",
   "execution_count": null,
   "metadata": {
    "collapsed": false
   },
   "outputs": [],
   "source": [
    "res = f(a)\n",
    "print(res)"
   ]
  },
  {
   "cell_type": "code",
   "execution_count": null,
   "metadata": {
    "collapsed": false
   },
   "outputs": [],
   "source": [
    "None"
   ]
  },
  {
   "cell_type": "markdown",
   "metadata": {},
   "source": [
    "### Локальные переменные\n",
    "\n",
    "Переменные используемые внутри функции являются локальными, т.е. доступны только внутри функции и \"невидимы\" снаружи и в других функциях."
   ]
  },
  {
   "cell_type": "code",
   "execution_count": null,
   "metadata": {
    "collapsed": false
   },
   "outputs": [],
   "source": [
    "def times(x,y):\n",
    "    tttt = x*y+nnn\n",
    "    print(tttt)\n",
    "    return tttt\n",
    "nnn = 3\n",
    "times(3,3)"
   ]
  },
  {
   "cell_type": "markdown",
   "metadata": {},
   "source": [
    "И если имя внутри функции совпадет с уже имеющиейся переменной, то это не повлияет на \"внешнюю\" переменную"
   ]
  },
  {
   "cell_type": "code",
   "execution_count": null,
   "metadata": {
    "collapsed": false
   },
   "outputs": [],
   "source": [
    "nnn = 10\n",
    "def fff(n):\n",
    "    global nnn\n",
    "    nnn = n+1\n",
    "    print(\"Внутри\", nnn)\n",
    "    return nnn\n",
    "print(\"До функции\", nnn)\n",
    "fff(1)\n",
    "print(\"После\", nnn)\n"
   ]
  },
  {
   "cell_type": "markdown",
   "metadata": {},
   "source": [
    "## Рекурсия"
   ]
  },
  {
   "cell_type": "markdown",
   "metadata": {},
   "source": [
    "Функция может вызывать себя и другие функции (в том числе циклически).\n",
    "\n",
    "Например можно реализовать факториал с помощью рекурсии:"
   ]
  },
  {
   "cell_type": "code",
   "execution_count": null,
   "metadata": {
    "collapsed": true
   },
   "outputs": [],
   "source": [
    "def fact_rec(n):\n",
    "    \"\"\"Рекурсивная реализация факториала числа.\"\"\"\n",
    "    print('Мы получили',n)\n",
    "    if n<=1: \n",
    "        print('Возвращаем 1')\n",
    "        return 1 \n",
    "    else:\n",
    "        print('Начали вычислять произведение для n=', n)\n",
    "        res = fact_rec(n-1)*n\n",
    "        print('Закончили вычислять произведение для n=', n)\n",
    "        return res"
   ]
  },
  {
   "cell_type": "code",
   "execution_count": null,
   "metadata": {
    "collapsed": false
   },
   "outputs": [],
   "source": [
    "fact_rec(3)"
   ]
  },
  {
   "cell_type": "markdown",
   "metadata": {},
   "source": [
    "Существует предел глубины рекурсивного вызова:"
   ]
  },
  {
   "cell_type": "code",
   "execution_count": null,
   "metadata": {
    "collapsed": false
   },
   "outputs": [],
   "source": [
    "fact_rec(976)"
   ]
  },
  {
   "cell_type": "markdown",
   "metadata": {},
   "source": [
    "При написании рекурсивных процедур важно ответить на два вопроса:\n",
    "\n",
    "    1. Всегда ли процедура останавливается?\n",
    "    2. Работает ли она правильно, когда заканчивает работу?"
   ]
  },
  {
   "cell_type": "code",
   "execution_count": null,
   "metadata": {
    "collapsed": false
   },
   "outputs": [],
   "source": [
    "def generate(n, k):\n",
    "    \"\"\"Генерирует все подпоследовательности из 0 и 1 длины n, \n",
    "    содержащие k единиц\"\"\"\n",
    "    if n<k:\n",
    "        return []\n",
    "    elif k==0:\n",
    "        return ['0'*n]\n",
    "    else:\n",
    "        c = generate(n-1,k)\n",
    "        res = []\n",
    "        for x in c:\n",
    "            res.append('0'+x)\n",
    "        c = generate(n-1,k-1)    \n",
    "        for x in c:\n",
    "            res.append('1'+x)\n",
    "        return res\n",
    "generate(3,2)"
   ]
  },
  {
   "cell_type": "code",
   "execution_count": null,
   "metadata": {
    "collapsed": false
   },
   "outputs": [],
   "source": [
    "generate(10,9)"
   ]
  },
  {
   "cell_type": "markdown",
   "metadata": {},
   "source": [
    "# Другие варианты передачи аргументов в функцию"
   ]
  },
  {
   "cell_type": "markdown",
   "metadata": {},
   "source": [
    "### Можно передавать по ключевому слову"
   ]
  },
  {
   "cell_type": "code",
   "execution_count": null,
   "metadata": {
    "collapsed": false
   },
   "outputs": [],
   "source": [
    "def descrofpet(animal, name, age):\n",
    "    print(\"У меня живет\", animal)\n",
    "    print(\"Его зовут\", name)\n",
    "    print (\"Ему\", age, \"лет\")\n",
    "descrofpet(\"собака\", \"Жучка\", 10)"
   ]
  },
  {
   "cell_type": "code",
   "execution_count": null,
   "metadata": {
    "collapsed": false
   },
   "outputs": [],
   "source": [
    "descrofpet(name='Жучка', age=10, animal='собак')"
   ]
  },
  {
   "cell_type": "markdown",
   "metadata": {},
   "source": [
    "### Значения по умолчанию"
   ]
  },
  {
   "cell_type": "code",
   "execution_count": null,
   "metadata": {
    "collapsed": false
   },
   "outputs": [],
   "source": [
    "def descrofpet(name, age, animal=\"собака\"):\n",
    "    print(\"У меня живет\", animal)\n",
    "    print(\"Его зовут\", name)\n",
    "    print (\"Ему\", age, \"лет\")\n",
    "descrofpet(\"Жучка\", 10, 'кошка')"
   ]
  },
  {
   "cell_type": "code",
   "execution_count": null,
   "metadata": {
    "collapsed": false
   },
   "outputs": [],
   "source": [
    "descrofpet(name='Кеша', age=2, animal='попугай')"
   ]
  },
  {
   "cell_type": "code",
   "execution_count": null,
   "metadata": {
    "collapsed": true
   },
   "outputs": [],
   "source": [
    "descrofpet('Кеша', animal='попугай')"
   ]
  },
  {
   "cell_type": "markdown",
   "metadata": {},
   "source": [
    " ## Неограниченное количество аргументов"
   ]
  },
  {
   "cell_type": "code",
   "execution_count": null,
   "metadata": {
    "collapsed": false
   },
   "outputs": [],
   "source": [
    "def times(x, *p):\n",
    "    print(type(p), p)\n",
    "    for y in p:\n",
    "        x=x*y\n",
    "    return x\n",
    "print(times(2), times(2,2), times(2,2,2,2))"
   ]
  },
  {
   "cell_type": "markdown",
   "metadata": {},
   "source": [
    " ## Неограниченное количество аргументов с именами"
   ]
  },
  {
   "cell_type": "code",
   "execution_count": null,
   "metadata": {
    "collapsed": false
   },
   "outputs": [],
   "source": [
    "def descrofpet(animal, name, age, **info):\n",
    "    print(type(info), info)\n",
    "    print(\"У меня живет\", animal)\n",
    "    print(\"Его зовут\", name)\n",
    "    print (\"Ему\", age, \"лет\")\n",
    "    if len(info)>0:\n",
    "        print(\"А ещё про моего питомца известно, что\")\n",
    "        for x,y in info.items():\n",
    "            print (\"У него \", x, y)\n",
    "descrofpet(\"собака\", \"Жучка\", 10, color=\"белый\", height=50)"
   ]
  },
  {
   "cell_type": "code",
   "execution_count": null,
   "metadata": {
    "collapsed": true
   },
   "outputs": [],
   "source": []
  },
  {
   "cell_type": "markdown",
   "metadata": {},
   "source": [
    "# Input и другие способы передачи информации в программу"
   ]
  },
  {
   "cell_type": "markdown",
   "metadata": {},
   "source": [
    "Чтобы передать информацию в программу можно использовать команду input()"
   ]
  },
  {
   "cell_type": "code",
   "execution_count": null,
   "metadata": {
    "collapsed": false
   },
   "outputs": [],
   "source": [
    "i = input()"
   ]
  },
  {
   "cell_type": "code",
   "execution_count": null,
   "metadata": {
    "collapsed": false
   },
   "outputs": [],
   "source": [
    "type(i)"
   ]
  },
  {
   "cell_type": "markdown",
   "metadata": {},
   "source": [
    "### Ввод чисел"
   ]
  },
  {
   "cell_type": "markdown",
   "metadata": {},
   "source": [
    "input() всегда дает строку"
   ]
  },
  {
   "cell_type": "code",
   "execution_count": null,
   "metadata": {
    "collapsed": false
   },
   "outputs": [],
   "source": [
    "type(i)"
   ]
  },
  {
   "cell_type": "markdown",
   "metadata": {},
   "source": [
    "Чтобы преобразовать строку в другой тип можно использовать команды типа type(str), где \"type\" - нужный тип. Например"
   ]
  },
  {
   "cell_type": "code",
   "execution_count": null,
   "metadata": {
    "collapsed": false
   },
   "outputs": [],
   "source": [
    "int('300')"
   ]
  },
  {
   "cell_type": "code",
   "execution_count": null,
   "metadata": {
    "collapsed": false
   },
   "outputs": [],
   "source": [
    "вщгиду('3.1415')"
   ]
  },
  {
   "cell_type": "code",
   "execution_count": null,
   "metadata": {
    "collapsed": false
   },
   "outputs": [],
   "source": [
    "complex('1+1j')"
   ]
  },
  {
   "cell_type": "markdown",
   "metadata": {},
   "source": [
    "### Для получения данных через пробел надо использовать str.split()"
   ]
  },
  {
   "cell_type": "code",
   "execution_count": null,
   "metadata": {
    "collapsed": false
   },
   "outputs": [],
   "source": [
    "a = input().split()"
   ]
  },
  {
   "cell_type": "code",
   "execution_count": null,
   "metadata": {
    "collapsed": false
   },
   "outputs": [],
   "source": [
    "a"
   ]
  },
  {
   "cell_type": "markdown",
   "metadata": {},
   "source": [
    "Эту команду можно использовать, чтобы загружать решения в Contest.Yandex.\n",
    "\n",
    "Показать пример."
   ]
  },
  {
   "cell_type": "markdown",
   "metadata": {},
   "source": [
    "Можно получать и сохранять данные из/в файлы. Но мы про это поговорим в другой раз."
   ]
  }
 ],
 "metadata": {
  "anaconda-cloud": {},
  "kernelspec": {
   "display_name": "Python [default]",
   "language": "python",
   "name": "python3"
  },
  "language_info": {
   "codemirror_mode": {
    "name": "ipython",
    "version": 3
   },
   "file_extension": ".py",
   "mimetype": "text/x-python",
   "name": "python",
   "nbconvert_exporter": "python",
   "pygments_lexer": "ipython3",
   "version": "3.5.2"
  }
 },
 "nbformat": 4,
 "nbformat_minor": 0
}
