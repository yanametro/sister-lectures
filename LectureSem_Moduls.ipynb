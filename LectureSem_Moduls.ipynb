{
 "cells": [
  {
   "cell_type": "markdown",
   "metadata": {},
   "source": [
    "# Стандартные модули в питоне"
   ]
  },
  {
   "cell_type": "markdown",
   "metadata": {},
   "source": [
    "Список модулей можно посмотреть здесь: https://docs.python.org/3/py-modindex.html\n",
    "\n",
    "Давайте рассмотрим некоторые из них:\n",
    "\n",
    "## Модуль random\n",
    "https://docs.python.org/3/library/random.html#module-random"
   ]
  },
  {
   "cell_type": "code",
   "execution_count": null,
   "metadata": {},
   "outputs": [],
   "source": [
    "import random\n",
    "random.randint(10,20)"
   ]
  },
  {
   "cell_type": "code",
   "execution_count": null,
   "metadata": {},
   "outputs": [],
   "source": [
    "from random import randint as rint\n",
    "rint(10,20)"
   ]
  },
  {
   "cell_type": "code",
   "execution_count": null,
   "metadata": {},
   "outputs": [],
   "source": [
    "randint(1, 30)"
   ]
  },
  {
   "cell_type": "code",
   "execution_count": null,
   "metadata": {},
   "outputs": [],
   "source": [
    "import random as rn\n",
    "rn.randint(0,10)"
   ]
  },
  {
   "cell_type": "code",
   "execution_count": null,
   "metadata": {},
   "outputs": [],
   "source": [
    "help(random)"
   ]
  },
  {
   "cell_type": "markdown",
   "metadata": {},
   "source": [
    "random.expovariate(lambd) - экспоненциальное распределение. lambd равен 1/среднее желаемое. Lambd должен быть отличным от нуля. Возвращаемые значения от 0 до плюс бесконечности, если lambd положительно, и от минус бесконечности до 0, если lambd отрицательный.\n",
    "\n",
    "random.gammavariate(alpha, beta) - гамма-распределение. Условия на параметры alpha>0 и beta>0.\n",
    "\n",
    "random.gauss(среднее, стандартное отклонение) - распределение Гаусса.\n",
    "\n",
    "random.lognormvariate(mu, sigma) - логарифм нормального распределения. Если взять натуральный логарифм этого распределения, то вы получите нормальное распределение со средним mu и стандартным отклонением sigma. mu может иметь любое значение, и sigma должна быть больше нуля.\n",
    "\n",
    "random.normalvariate(mu, sigma) - нормальное распределение. mu - среднее значение, sigma - стандартное отклонение.\n",
    "\n",
    "random.vonmisesvariate(mu, kappa) - mu - средний угол, выраженный в радианах от 0 до 2π, и kappa - параметр концентрации, который должен быть больше или равен нулю. Если каппа равна нулю, это распределение сводится к случайному углу в диапазоне от 0 до 2π.\n",
    "\n",
    "random.paretovariate(alpha) - распределение Парето.\n",
    "\n",
    "random.weibullvariate(alpha, beta) - распределение Вейбулла."
   ]
  },
  {
   "cell_type": "code",
   "execution_count": null,
   "metadata": {},
   "outputs": [],
   "source": [
    "rn.choice(range(1,10,2))"
   ]
  },
  {
   "cell_type": "code",
   "execution_count": null,
   "metadata": {},
   "outputs": [],
   "source": [
    "rn.choice('Hello Python!')"
   ]
  },
  {
   "cell_type": "code",
   "execution_count": null,
   "metadata": {},
   "outputs": [],
   "source": [
    "a = list('Hello Python!')\n",
    "rn.shuffle(a)\n",
    "print(''.join(a))"
   ]
  },
  {
   "cell_type": "code",
   "execution_count": null,
   "metadata": {},
   "outputs": [],
   "source": [
    "rn.sample([10, 20, 30, 40, 50], k=3)"
   ]
  },
  {
   "cell_type": "markdown",
   "metadata": {},
   "source": [
    "#### random.seed(a=None, version=2)\n",
    "\n",
    "Initialize the random number generator.\n",
    "\n",
    "If a is omitted or None, the current system time is used. If randomness sources are provided by the operating system, they are used instead of the system time (see the os.urandom() function for details on availability).\n",
    "\n",
    "If a is an int, it is used directly.\n",
    "\n",
    "With version 2 (the default), a str, bytes, or bytearray object gets converted to an int and all of its bits are used.\n",
    "\n",
    "With version 1 (provided for reproducing random sequences from older versions of Python), the algorithm for str and bytes generates a narrower range of seeds.\n",
    "\n",
    "Changed in version 3.2: Moved to the version 2 scheme which uses all of the bits in a string seed.\n",
    "\n",
    "#### random.getstate()\n",
    "\n",
    "Return an object capturing the current internal state of the generator. This object can be passed to setstate() to restore the state.\n",
    "\n",
    "#### random.setstate(state)\n",
    "\n",
    "state should have been obtained from a previous call to getstate(), and setstate() restores the internal state of the generator to what it was at the time getstate() was called."
   ]
  },
  {
   "cell_type": "markdown",
   "metadata": {},
   "source": [
    "#### Задание:\n",
    "1) Напишите программу, которая выдает квадратное уравнение со случайными коэффициентами и спрашивает корни. После ввода оценивает правильно или не правильно были введены корни.\n",
    "\n",
    "2) Посчитате интеграл функции методом Монте-Карло."
   ]
  },
  {
   "cell_type": "markdown",
   "metadata": {},
   "source": [
    "### Модуль *copy* - поверхностное и глубокое копирование объектов\n",
    "\n",
    "copy.copy(x) - возвращает поверхностную копию x.\n",
    "\n",
    "copy.deepcopy(x) - возвращает полную копию x."
   ]
  },
  {
   "cell_type": "code",
   "execution_count": null,
   "metadata": {},
   "outputs": [],
   "source": [
    "import copy\n",
    "test_1 = [1, 2, 3, [1, 2, 3]]\n",
    "test_copy = copy.copy(test_1)\n",
    "print(test_1, test_copy)\n",
    "test_copy[3].append(4)\n",
    "print(test_1, test_copy)\n",
    "test_1 = [1, 2, 3, [1, 2, 3]]\n",
    "test_deepcopy = copy.deepcopy(test_1)\n",
    "test_deepcopy[3].append(4)\n",
    "print(test_1, test_deepcopy)"
   ]
  },
  {
   "cell_type": "markdown",
   "metadata": {},
   "source": [
    "### Задание:\n",
    "Проверьте как ведет себя copy и deepcopy с классами. Создайте свой класс, в котором есть свойства другой класс или список или словарь. И примените к экземляру этого класса функции copy и deepcoy."
   ]
  },
  {
   "cell_type": "code",
   "execution_count": null,
   "metadata": {},
   "outputs": [],
   "source": [
    "class Test:\n",
    "    def __init__(self, a, b):\n",
    "        self.a = a\n",
    "        self.b = b\n",
    "    def __str__ (self):\n",
    "        return str(self.a)+' '+str(self.b)\n",
    "import copy\n",
    "x = Test([1,2,3], None)\n",
    "y = Test(2, x)\n",
    "y_copy = copy.copy(y)\n",
    "y_dcopy = copy.deepcopy(y)\n",
    "y.a = 10\n",
    "y.b.a[0] = 88\n",
    "print(y)\n",
    "print(y_copy)\n",
    "print(y_dcopy)"
   ]
  },
  {
   "cell_type": "markdown",
   "metadata": {},
   "source": [
    "## Модуль *os* позволяет работать с файловой системой и не только\n",
    "\n",
    "В этом модуле очень много разных функций. Вы можете все их изучить самостоятельно, так что мы приведем, только некоторые:\n",
    "\n",
    "os.name - имя операционной системы. Доступные варианты: 'posix', 'nt', 'mac', 'os2', 'ce', 'java'.\n",
    "\n",
    "os.environ - словарь переменных окружения. Изменяемый (можно добавлять и удалять переменные окружения).\n",
    "\n",
    "os.chdir(path) - смена текущей директории.\n",
    "\n",
    "os.getcwd() - текущая рабочая директория.\n",
    "\n",
    "os.listdir(path=\".\") - список файлов и директорий в папке.\n",
    "\n",
    "os.mkdir(path, mode=0o777, *, dir_fd=None) - создаёт директорию. OSError, если директория существует.\n",
    "\n",
    "os.remove(path, *, dir_fd=None) - удаляет путь к файлу.\n",
    "\n",
    "os.rename(src, dst, *, src_dir_fd=None, dst_dir_fd=None) - переименовывает файл или директорию из src в dst.\n",
    "\n",
    "os.replace(src, dst, *, src_dir_fd=None, dst_dir_fd=None) - переименовывает из src в dst с принудительной заменой.\n",
    "\n",
    "os.rmdir(path, *, dir_fd=None) - удаляет пустую директорию.\n",
    "\n",
    "os.system(command) - исполняет системную команду, возвращает код её завершения (в случае успеха 0)."
   ]
  },
  {
   "cell_type": "markdown",
   "metadata": {},
   "source": [
    "Упражнение:\n",
    "    Создайте директорию с именем test. Создайте так несколько файлов \"вручную\".\n",
    "    Напишите программу, которая заходит в test, выводит на экран список файлов в этой директории и переименовывает, например \n",
    "    по порядку в имена test1.txt test2.txt и так далее."
   ]
  },
  {
   "cell_type": "code",
   "execution_count": null,
   "metadata": {},
   "outputs": [],
   "source": [
    "import os\n",
    "os.chdir (r\"c:\\temp\\newdir\")\n",
    "os.replace('test1.txt', \"test2.txt\")"
   ]
  },
  {
   "cell_type": "markdown",
   "metadata": {},
   "source": [
    "### Задание:\n",
    "\n",
    "Напишите программу, которая сканирует директорию находит файлы вида *.jpg переименовать их в формат ГГГГММДД*.*, где ГГГГММДД -- дата создания файла, и для каждой даты создается своя директория с именем ГГГГММДД и туда переносятся файлы с соответствующей датой создания."
   ]
  },
  {
   "cell_type": "markdown",
   "metadata": {},
   "source": [
    "## Модуль pickle\n",
    "\n",
    "https://docs.python.org/3/library/pickle.html#module-pickle\n",
    "\n",
    "Модуль pickle реализует мощный алгоритм сериализации и десериализации объектов Python. \"Pickling\" - процесс преобразования объекта Python в поток байтов, а \"unpickling\" - обратная операция, в результате которой поток байтов преобразуется обратно в Python-объект. Так как поток байтов легко можно записать в файл, модуль pickle широко применяется для сохранения и загрузки сложных объектов в Python"
   ]
  },
  {
   "cell_type": "markdown",
   "metadata": {},
   "source": [
    "#### Упражнение:\n",
    "Возмите какой-нибудь класс, можно один из тех которые мы с вами уже делали, создайте представителя класса и попробуйте его сериализовать и десериализовать."
   ]
  },
  {
   "cell_type": "markdown",
   "metadata": {},
   "source": [
    "## Модуль datetime\n",
    "Модуль datetime предоставляет классы для обработки времени и даты разными способами. Поддерживается и стандартный способ представления времени, однако больший упор сделан на простоту манипулирования датой, временем и их частями.\n",
    "\n",
    "https://pythonworld.ru/moduli/modul-datetime.html\n",
    "\n",
    "### Упражнение. \n",
    "Создайте программу, которая спрашивает дату в формате DD.MM.YYYY и выдает день недели на который попадает эта дата."
   ]
  },
  {
   "cell_type": "code",
   "execution_count": null,
   "metadata": {
    "collapsed": true
   },
   "outputs": [],
   "source": []
  },
  {
   "cell_type": "markdown",
   "metadata": {},
   "source": [
    "## Модуль itertools\n",
    "Модуль itertools - сборник полезных итераторов.\n",
    "\n",
    "https://pythonworld.ru/moduli/modul-itertools.html\n",
    "\n",
    "### Упражнение: \n",
    "С помощью этого модуля напечатайте все анаграммы вашей фамилии.\n"
   ]
  },
  {
   "cell_type": "code",
   "execution_count": null,
   "metadata": {
    "collapsed": true
   },
   "outputs": [],
   "source": []
  },
  {
   "cell_type": "markdown",
   "metadata": {},
   "source": [
    "## Модуль sys\n",
    "Модуль sys обеспечивает доступ к некоторым переменным и функциям, взаимодействующим с интерпретатором python.\n",
    "Например, с помощью этого модуля можно получать аргументы с которыми запускается программа.\n",
    "\n",
    "https://pythonworld.ru/moduli/modul-sys.html\n",
    "\n",
    "### Упражнение\n",
    "Создайте файл sum.py, который считывает аргументы, с которыми его запускают и считает и выводит сумму чисел в этих аргументах."
   ]
  },
  {
   "cell_type": "code",
   "execution_count": null,
   "metadata": {
    "collapsed": true
   },
   "outputs": [],
   "source": []
  },
  {
   "cell_type": "markdown",
   "metadata": {},
   "source": []
  },
  {
   "cell_type": "code",
   "execution_count": null,
   "metadata": {
    "collapsed": true
   },
   "outputs": [],
   "source": []
  },
  {
   "cell_type": "markdown",
   "metadata": {},
   "source": [
    "## Модуль math\n",
    "Модуль math – один из наиважнейших в Python. Этот модуль предоставляет обширный функционал для работы с числами."
   ]
  },
  {
   "cell_type": "markdown",
   "metadata": {},
   "source": [
    "math.ceil(X) – округление до ближайшего большего числа.\n",
    "\n",
    "math.copysign(X, Y) - возвращает число, имеющее модуль такой же, как и у числа X, а знак - как у числа Y.\n",
    "\n",
    "math.fabs(X) - модуль X.\n",
    "\n",
    "math.factorial(X) - факториал числа X.\n",
    "\n",
    "math.floor(X) - округление вниз.\n",
    "\n",
    "math.fmod(X, Y) - остаток от деления X на Y.\n",
    "\n",
    "math.frexp(X) - возвращает мантиссу и экспоненту числа.\n",
    "\n",
    "math.ldexp(X, I) - X * 2i. Функция, обратная функции math.frexp().\n",
    "\n",
    "math.fsum(последовательность) - сумма всех членов последовательности. Эквивалент встроенной функции sum(), но math.fsum() более точна для чисел с плавающей точкой.\n",
    "\n",
    "math.isfinite(X) - является ли X числом.\n",
    "\n",
    "math.isinf(X) - является ли X бесконечностью.\n",
    "\n",
    "math.isnan(X) - является ли X NaN (Not a Number - не число).\n",
    "\n",
    "math.modf(X) - возвращает дробную и целую часть числа X. Оба числа имеют тот же знак, что и X.\n",
    "\n",
    "math.trunc(X) - усекает значение X до целого.\n",
    "\n",
    "math.exp(X) - eX.\n",
    "\n",
    "math.expm1(X) - eX - 1. При X → 0 точнее, чем math.exp(X)-1.\n",
    "\n",
    "math.log(X, [base]) - логарифм X по основанию base. Если base не указан, вычисляется натуральный логарифм.\n",
    "\n",
    "math.log1p(X) - натуральный логарифм (1 + X). При X → 0 точнее, чем math.log(1+X).\n",
    "\n",
    "math.log10(X) - логарифм X по основанию 10.\n",
    "\n",
    "math.log2(X) - логарифм X по основанию 2. Новое в Python 3.3.\n",
    "\n",
    "math.pow(X, Y) - XY.\n",
    "\n",
    "math.sqrt(X) - квадратный корень из X.\n",
    "\n",
    "math.acos(X) - арккосинус X. В радианах.\n",
    "\n",
    "math.asin(X) - арксинус X. В радианах.\n",
    "\n",
    "math.atan(X) - арктангенс X. В радианах.\n",
    "\n",
    "math.atan2(Y, X) - арктангенс Y/X. В радианах. С учетом четверти, в которой находится точка (X, Y).\n",
    "\n",
    "math.cos(X) - косинус X (X указывается в радианах).\n",
    "\n",
    "math.sin(X) - синус X (X указывается в радианах).\n",
    "\n",
    "math.tan(X) - тангенс X (X указывается в радианах).\n",
    "\n",
    "math.hypot(X, Y) - вычисляет гипотенузу треугольника с катетами X и Y (math.sqrt(x * x + y * y)).\n",
    "\n",
    "math.degrees(X) - конвертирует радианы в градусы.\n",
    "\n",
    "math.radians(X) - конвертирует градусы в радианы.\n",
    "\n",
    "math.cosh(X) - вычисляет гиперболический косинус.\n",
    "\n",
    "math.sinh(X) - вычисляет гиперболический синус.\n",
    "\n",
    "math.tanh(X) - вычисляет гиперболический тангенс.\n",
    "\n",
    "math.acosh(X) - вычисляет обратный гиперболический косинус.\n",
    "\n",
    "math.asinh(X) - вычисляет обратный гиперболический синус.\n",
    "\n",
    "math.atanh(X) - вычисляет обратный гиперболический тангенс.\n",
    "\n",
    "math.erf(X) - функция ошибок.\n",
    "\n",
    "math.erfc(X) - дополнительная функция ошибок (1 - math.erf(X)).\n",
    "\n",
    "math.gamma(X) - гамма-функция X.\n",
    "\n",
    "math.lgamma(X) - натуральный логарифм гамма-функции X.\n",
    "\n",
    "math.pi = 3,1415926...\n",
    "\n",
    "math.e = 2,718281..."
   ]
  },
  {
   "cell_type": "markdown",
   "metadata": {},
   "source": [
    "Из предыдущего задания возьмите подсчет интеграла методом Монте-Карло и проверьте насколько хорошо считаются интегралы различных математических функций. "
   ]
  },
  {
   "cell_type": "code",
   "execution_count": null,
   "metadata": {
    "collapsed": true
   },
   "outputs": [],
   "source": []
  },
  {
   "cell_type": "markdown",
   "metadata": {},
   "source": [
    "## Модуль re -- работа с регулярными выражениями."
   ]
  },
  {
   "cell_type": "markdown",
   "metadata": {},
   "source": [
    "## Модуль decimal - десятичные числа с фиксированной запятой\n",
    "\n",
    "https://docs.python.org/3/library/decimal.html\n",
    "\n",
    "Посчитайте e и pi с точностью до 20 знаков после запятой."
   ]
  },
  {
   "cell_type": "code",
   "execution_count": null,
   "metadata": {
    "collapsed": true
   },
   "outputs": [],
   "source": []
  },
  {
   "cell_type": "markdown",
   "metadata": {},
   "source": [
    "## Модуль fractions - рациональные числа\n",
    "\n",
    "https://docs.python.org/3/library/fractions.html\n",
    "\n",
    "Представьте e и pi в виде дроби со знаминателем большим 1 000 000"
   ]
  },
  {
   "cell_type": "markdown",
   "metadata": {
    "collapsed": true
   },
   "source": [
    "### Модуль multiprocessing\n",
    "\n",
    "https://docs.python.org/3/library/multiprocessing.html#module-multiprocessing\n",
    "\n",
    "Модуль для параллельного программирования"
   ]
  },
  {
   "cell_type": "markdown",
   "metadata": {
    "collapsed": true
   },
   "source": [
    "### Модуль zipfile\n",
    "\n",
    "Архивирование и разархивирование файлов.\n",
    "Содержит класс ZipFile, который позволяет работать с архивом.\n",
    "\n",
    "#### Задание:\n",
    "1) Создайте файл myzip.py который спрашивает имя файла и архивирует его.\n",
    "\n",
    "2) То же, что в пункте 1), но имя файла берется из первого аргумента, которые можно получить с помощью модуля sys"
   ]
  },
  {
   "cell_type": "markdown",
   "metadata": {},
   "source": [
    "### Модуль UUID\n",
    "https://docs.python.org/3/library/uuid.html#module-uuid\n",
    "\n",
    "\n",
    "### Модуль CVS\n",
    "https://docs.python.org/3/library/csv.html#module-csv"
   ]
  },
  {
   "cell_type": "code",
   "execution_count": null,
   "metadata": {
    "collapsed": true
   },
   "outputs": [],
   "source": []
  }
 ],
 "metadata": {
  "kernelspec": {
   "display_name": "Python 3",
   "language": "python",
   "name": "python3"
  },
  "language_info": {
   "codemirror_mode": {
    "name": "ipython",
    "version": 3
   },
   "file_extension": ".py",
   "mimetype": "text/x-python",
   "name": "python",
   "nbconvert_exporter": "python",
   "pygments_lexer": "ipython3",
   "version": "3.6.2"
  }
 },
 "nbformat": 4,
 "nbformat_minor": 1
}
